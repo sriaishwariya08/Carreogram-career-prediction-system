{
 "cells": [
  {
   "cell_type": "code",
   "execution_count": 16,
   "metadata": {},
   "outputs": [],
   "source": [
    "#from sklearn.model_selection import KFold\n",
    "from sklearn import model_selection\n",
    "from sklearn.ensemble import BaggingClassifier\n",
    "from sklearn.tree import DecisionTreeClassifier\n",
    "import pandas as pd\n",
    "import numpy as np\n",
    "import pickle"
   ]
  },
  {
   "cell_type": "code",
   "execution_count": 17,
   "metadata": {},
   "outputs": [],
   "source": [
    "dataset = pd.read_csv('data.csv', header = None)"
   ]
  },
  {
   "cell_type": "code",
   "execution_count": 18,
   "metadata": {},
   "outputs": [
    {
     "name": "stdout",
     "output_type": "stream",
     "text": [
      "                   0                       1                  2   \\\n",
      "0  Programming skills  Problem solving skills  Analytical skills   \n",
      "1        Professional          Not Interested     Not Interested   \n",
      "2        Professional                    Poor     Not Interested   \n",
      "3        Professional                Beginner     Not Interested   \n",
      "4        Professional                 Average     Not Interested   \n",
      "\n",
      "               3                   4                     5               6   \\\n",
      "0  Logical skills  Statistical skills  Communication skills         Styling   \n",
      "1  Not Interested      Not Interested        Not Interested  Not Interested   \n",
      "2  Not Interested      Not Interested        Not Interested  Not Interested   \n",
      "3  Not Interested      Not Interested        Not Interested  Not Interested   \n",
      "4  Not Interested      Not Interested        Not Interested  Not Interested   \n",
      "\n",
      "                  7                      8                   9   \\\n",
      "0  Creativity skills  Organisational skills  Negotiation skills   \n",
      "1     Not Interested         Not Interested      Not Interested   \n",
      "2     Not Interested         Not Interested      Not Interested   \n",
      "3     Not Interested         Not Interested      Not Interested   \n",
      "4     Not Interested         Not Interested      Not Interested   \n",
      "\n",
      "                     10              11              12                 13  \\\n",
      "0  Attention to details         Empathy      Leadership  Stress management   \n",
      "1        Not Interested  Not Interested  Not Interested     Not Interested   \n",
      "2        Not Interested  Not Interested  Not Interested     Not Interested   \n",
      "3        Not Interested  Not Interested  Not Interested     Not Interested   \n",
      "4        Not Interested  Not Interested  Not Interested     Not Interested   \n",
      "\n",
      "                 14              15                      16        17  \n",
      "0  Listening skills        Research  Emotional intelligence      Role  \n",
      "1    Not Interested  Not Interested          Not Interested  Engineer  \n",
      "2    Not Interested  Not Interested          Not Interested  Engineer  \n",
      "3    Not Interested  Not Interested          Not Interested  Engineer  \n",
      "4    Not Interested  Not Interested          Not Interested  Engineer  \n"
     ]
    }
   ],
   "source": [
    "print(dataset.head())"
   ]
  },
  {
   "cell_type": "code",
   "execution_count": 19,
   "metadata": {},
   "outputs": [],
   "source": [
    "dataset.columns= [\"Programming skills\",\"Problem solving skills\",\"Analytical skills\",\"Logical skills\",\"Statistical skills\",\"Communication skills\",\"Styling\",\"Creativity skills\",\"Organisational skills\",\"Negotiation skills\",\"Attention to details\",\"Empathy\",\"Leadership\",\"Stress management\",\"Listening skills\",\"Research\",\"Emotional intelligence\",\"Role\"]\n",
    "dataset.dropna(how ='all', inplace = True)"
   ]
  },
  {
   "cell_type": "code",
   "execution_count": 20,
   "metadata": {},
   "outputs": [],
   "source": [
    "from sklearn.preprocessing import LabelEncoder\n",
    "import pandas as pd"
   ]
  },
  {
   "cell_type": "code",
   "execution_count": 21,
   "metadata": {},
   "outputs": [
    {
     "data": {
      "text/html": [
       "<div>\n",
       "<style scoped>\n",
       "    .dataframe tbody tr th:only-of-type {\n",
       "        vertical-align: middle;\n",
       "    }\n",
       "\n",
       "    .dataframe tbody tr th {\n",
       "        vertical-align: top;\n",
       "    }\n",
       "\n",
       "    .dataframe thead th {\n",
       "        text-align: right;\n",
       "    }\n",
       "</style>\n",
       "<table border=\"1\" class=\"dataframe\">\n",
       "  <thead>\n",
       "    <tr style=\"text-align: right;\">\n",
       "      <th></th>\n",
       "      <th>Programming skills</th>\n",
       "      <th>Problem solving skills</th>\n",
       "      <th>Analytical skills</th>\n",
       "      <th>Logical skills</th>\n",
       "      <th>Statistical skills</th>\n",
       "      <th>Communication skills</th>\n",
       "      <th>Styling</th>\n",
       "      <th>Creativity skills</th>\n",
       "      <th>Organisational skills</th>\n",
       "      <th>Negotiation skills</th>\n",
       "      <th>Attention to details</th>\n",
       "      <th>Empathy</th>\n",
       "      <th>Leadership</th>\n",
       "      <th>Stress management</th>\n",
       "      <th>Listening skills</th>\n",
       "      <th>Research</th>\n",
       "      <th>Emotional intelligence</th>\n",
       "      <th>Role</th>\n",
       "    </tr>\n",
       "  </thead>\n",
       "  <tbody>\n",
       "    <tr>\n",
       "      <th>0</th>\n",
       "      <td>7</td>\n",
       "      <td>6</td>\n",
       "      <td>0</td>\n",
       "      <td>4</td>\n",
       "      <td>7</td>\n",
       "      <td>2</td>\n",
       "      <td>7</td>\n",
       "      <td>2</td>\n",
       "      <td>5</td>\n",
       "      <td>4</td>\n",
       "      <td>0</td>\n",
       "      <td>2</td>\n",
       "      <td>4</td>\n",
       "      <td>7</td>\n",
       "      <td>4</td>\n",
       "      <td>7</td>\n",
       "      <td>2</td>\n",
       "      <td>Role</td>\n",
       "    </tr>\n",
       "    <tr>\n",
       "      <th>1</th>\n",
       "      <td>6</td>\n",
       "      <td>4</td>\n",
       "      <td>5</td>\n",
       "      <td>5</td>\n",
       "      <td>4</td>\n",
       "      <td>5</td>\n",
       "      <td>4</td>\n",
       "      <td>5</td>\n",
       "      <td>4</td>\n",
       "      <td>5</td>\n",
       "      <td>5</td>\n",
       "      <td>5</td>\n",
       "      <td>5</td>\n",
       "      <td>4</td>\n",
       "      <td>5</td>\n",
       "      <td>4</td>\n",
       "      <td>5</td>\n",
       "      <td>Engineer</td>\n",
       "    </tr>\n",
       "    <tr>\n",
       "      <th>2</th>\n",
       "      <td>6</td>\n",
       "      <td>5</td>\n",
       "      <td>5</td>\n",
       "      <td>5</td>\n",
       "      <td>4</td>\n",
       "      <td>5</td>\n",
       "      <td>4</td>\n",
       "      <td>5</td>\n",
       "      <td>4</td>\n",
       "      <td>5</td>\n",
       "      <td>5</td>\n",
       "      <td>5</td>\n",
       "      <td>5</td>\n",
       "      <td>4</td>\n",
       "      <td>5</td>\n",
       "      <td>4</td>\n",
       "      <td>5</td>\n",
       "      <td>Engineer</td>\n",
       "    </tr>\n",
       "    <tr>\n",
       "      <th>3</th>\n",
       "      <td>6</td>\n",
       "      <td>1</td>\n",
       "      <td>5</td>\n",
       "      <td>5</td>\n",
       "      <td>4</td>\n",
       "      <td>5</td>\n",
       "      <td>4</td>\n",
       "      <td>5</td>\n",
       "      <td>4</td>\n",
       "      <td>5</td>\n",
       "      <td>5</td>\n",
       "      <td>5</td>\n",
       "      <td>5</td>\n",
       "      <td>4</td>\n",
       "      <td>5</td>\n",
       "      <td>4</td>\n",
       "      <td>5</td>\n",
       "      <td>Engineer</td>\n",
       "    </tr>\n",
       "    <tr>\n",
       "      <th>4</th>\n",
       "      <td>6</td>\n",
       "      <td>0</td>\n",
       "      <td>5</td>\n",
       "      <td>5</td>\n",
       "      <td>4</td>\n",
       "      <td>5</td>\n",
       "      <td>4</td>\n",
       "      <td>5</td>\n",
       "      <td>4</td>\n",
       "      <td>5</td>\n",
       "      <td>5</td>\n",
       "      <td>5</td>\n",
       "      <td>5</td>\n",
       "      <td>4</td>\n",
       "      <td>5</td>\n",
       "      <td>4</td>\n",
       "      <td>5</td>\n",
       "      <td>Engineer</td>\n",
       "    </tr>\n",
       "  </tbody>\n",
       "</table>\n",
       "</div>"
      ],
      "text/plain": [
       "   Programming skills  Problem solving skills  Analytical skills  \\\n",
       "0                   7                       6                  0   \n",
       "1                   6                       4                  5   \n",
       "2                   6                       5                  5   \n",
       "3                   6                       1                  5   \n",
       "4                   6                       0                  5   \n",
       "\n",
       "   Logical skills  Statistical skills  Communication skills  Styling  \\\n",
       "0               4                   7                     2        7   \n",
       "1               5                   4                     5        4   \n",
       "2               5                   4                     5        4   \n",
       "3               5                   4                     5        4   \n",
       "4               5                   4                     5        4   \n",
       "\n",
       "   Creativity skills  Organisational skills  Negotiation skills  \\\n",
       "0                  2                      5                   4   \n",
       "1                  5                      4                   5   \n",
       "2                  5                      4                   5   \n",
       "3                  5                      4                   5   \n",
       "4                  5                      4                   5   \n",
       "\n",
       "   Attention to details  Empathy  Leadership  Stress management  \\\n",
       "0                     0        2           4                  7   \n",
       "1                     5        5           5                  4   \n",
       "2                     5        5           5                  4   \n",
       "3                     5        5           5                  4   \n",
       "4                     5        5           5                  4   \n",
       "\n",
       "   Listening skills  Research  Emotional intelligence      Role  \n",
       "0                 4         7                       2      Role  \n",
       "1                 5         4                       5  Engineer  \n",
       "2                 5         4                       5  Engineer  \n",
       "3                 5         4                       5  Engineer  \n",
       "4                 5         4                       5  Engineer  "
      ]
     },
     "execution_count": 21,
     "metadata": {},
     "output_type": "execute_result"
    }
   ],
   "source": [
    "df = pd.DataFrame(dataset)\n",
    "le = LabelEncoder()\n",
    "df['Programming skills'] = le.fit_transform(df['Programming skills'])\n",
    "df['Problem solving skills'] = le.fit_transform(df['Problem solving skills'])\n",
    "df['Analytical skills'] = le.fit_transform(df['Analytical skills'])\n",
    "df['Logical skills'] = le.fit_transform(df['Logical skills'])\n",
    "df['Statistical skills'] = le.fit_transform(df['Statistical skills'])\n",
    "df['Communication skills'] = le.fit_transform(df['Communication skills'])\n",
    "df['Styling'] = le.fit_transform(df['Styling'])\n",
    "df['Creativity skills'] = le.fit_transform(df['Creativity skills'])\n",
    "df['Organisational skills'] = le.fit_transform(df['Organisational skills'])\n",
    "df['Negotiation skills'] = le.fit_transform(df['Negotiation skills'])\n",
    "df['Attention to details'] = le.fit_transform(df['Attention to details'])\n",
    "df['Empathy'] = le.fit_transform(df['Empathy'])\n",
    "df['Leadership'] = le.fit_transform(df['Leadership'])\n",
    "df['Stress management'] = le.fit_transform(df['Stress management'])\n",
    "df['Listening skills'] = le.fit_transform(df['Listening skills'])\n",
    "df['Research'] = le.fit_transform(df['Research'])\n",
    "df['Emotional intelligence'] = le.fit_transform(df['Emotional intelligence'])\n",
    "df.head()"
   ]
  },
  {
   "cell_type": "code",
   "execution_count": 22,
   "metadata": {},
   "outputs": [
    {
     "name": "stdout",
     "output_type": "stream",
     "text": [
      "[[7 6 0 ... 4 7 2]\n",
      " [6 4 5 ... 5 4 5]\n",
      " [6 5 5 ... 5 4 5]\n",
      " ...\n",
      " [4 4 5 ... 0 0 7]\n",
      " [4 4 5 ... 3 3 7]\n",
      " [4 4 5 ... 2 2 7]]\n",
      "['Role' 'Engineer' 'Engineer' ... 'Pilot' 'Pilot' 'Pilot']\n"
     ]
    }
   ],
   "source": [
    "X=np.array(dataset.iloc[:, 0:17]) \n",
    "print(X)\n",
    "Y = np.array(dataset.iloc[:, 17])\n",
    "print(Y)"
   ]
  },
  {
   "cell_type": "code",
   "execution_count": 24,
   "metadata": {},
   "outputs": [],
   "source": [
    "seed=5\n",
    "kfold = model_selection.KFold(n_splits = 15,\n",
    "                       shuffle=True)\n",
    "#kfold = KFold(n_splits = 15, shuffle= True)"
   ]
  },
  {
   "cell_type": "code",
   "execution_count": 25,
   "metadata": {},
   "outputs": [],
   "source": [
    "base_cls = DecisionTreeClassifier()"
   ]
  },
  {
   "cell_type": "code",
   "execution_count": 26,
   "metadata": {},
   "outputs": [],
   "source": [
    "num_trees = 50"
   ]
  },
  {
   "cell_type": "code",
   "execution_count": 29,
   "metadata": {},
   "outputs": [],
   "source": [
    "model = BaggingClassifier(base_estimator = base_cls,\n",
    "                          n_estimators = num_trees,\n",
    "                          random_state = 5)"
   ]
  },
  {
   "cell_type": "code",
   "execution_count": 30,
   "metadata": {},
   "outputs": [
    {
     "name": "stderr",
     "output_type": "stream",
     "text": [
      "c:\\Users\\SP. Narayanan\\Documents\\career dendogram\\dendpy\\.venv\\Lib\\site-packages\\sklearn\\ensemble\\_base.py:166: FutureWarning: `base_estimator` was renamed to `estimator` in version 1.2 and will be removed in 1.4.\n",
      "  warnings.warn(\n",
      "c:\\Users\\SP. Narayanan\\Documents\\career dendogram\\dendpy\\.venv\\Lib\\site-packages\\sklearn\\ensemble\\_base.py:166: FutureWarning: `base_estimator` was renamed to `estimator` in version 1.2 and will be removed in 1.4.\n",
      "  warnings.warn(\n",
      "c:\\Users\\SP. Narayanan\\Documents\\career dendogram\\dendpy\\.venv\\Lib\\site-packages\\sklearn\\ensemble\\_base.py:166: FutureWarning: `base_estimator` was renamed to `estimator` in version 1.2 and will be removed in 1.4.\n",
      "  warnings.warn(\n",
      "c:\\Users\\SP. Narayanan\\Documents\\career dendogram\\dendpy\\.venv\\Lib\\site-packages\\sklearn\\ensemble\\_base.py:166: FutureWarning: `base_estimator` was renamed to `estimator` in version 1.2 and will be removed in 1.4.\n",
      "  warnings.warn(\n",
      "c:\\Users\\SP. Narayanan\\Documents\\career dendogram\\dendpy\\.venv\\Lib\\site-packages\\sklearn\\ensemble\\_base.py:166: FutureWarning: `base_estimator` was renamed to `estimator` in version 1.2 and will be removed in 1.4.\n",
      "  warnings.warn(\n",
      "c:\\Users\\SP. Narayanan\\Documents\\career dendogram\\dendpy\\.venv\\Lib\\site-packages\\sklearn\\ensemble\\_base.py:166: FutureWarning: `base_estimator` was renamed to `estimator` in version 1.2 and will be removed in 1.4.\n",
      "  warnings.warn(\n",
      "c:\\Users\\SP. Narayanan\\Documents\\career dendogram\\dendpy\\.venv\\Lib\\site-packages\\sklearn\\ensemble\\_base.py:166: FutureWarning: `base_estimator` was renamed to `estimator` in version 1.2 and will be removed in 1.4.\n",
      "  warnings.warn(\n",
      "c:\\Users\\SP. Narayanan\\Documents\\career dendogram\\dendpy\\.venv\\Lib\\site-packages\\sklearn\\ensemble\\_base.py:166: FutureWarning: `base_estimator` was renamed to `estimator` in version 1.2 and will be removed in 1.4.\n",
      "  warnings.warn(\n",
      "c:\\Users\\SP. Narayanan\\Documents\\career dendogram\\dendpy\\.venv\\Lib\\site-packages\\sklearn\\ensemble\\_base.py:166: FutureWarning: `base_estimator` was renamed to `estimator` in version 1.2 and will be removed in 1.4.\n",
      "  warnings.warn(\n",
      "c:\\Users\\SP. Narayanan\\Documents\\career dendogram\\dendpy\\.venv\\Lib\\site-packages\\sklearn\\ensemble\\_base.py:166: FutureWarning: `base_estimator` was renamed to `estimator` in version 1.2 and will be removed in 1.4.\n",
      "  warnings.warn(\n",
      "c:\\Users\\SP. Narayanan\\Documents\\career dendogram\\dendpy\\.venv\\Lib\\site-packages\\sklearn\\ensemble\\_base.py:166: FutureWarning: `base_estimator` was renamed to `estimator` in version 1.2 and will be removed in 1.4.\n",
      "  warnings.warn(\n",
      "c:\\Users\\SP. Narayanan\\Documents\\career dendogram\\dendpy\\.venv\\Lib\\site-packages\\sklearn\\ensemble\\_base.py:166: FutureWarning: `base_estimator` was renamed to `estimator` in version 1.2 and will be removed in 1.4.\n",
      "  warnings.warn(\n",
      "c:\\Users\\SP. Narayanan\\Documents\\career dendogram\\dendpy\\.venv\\Lib\\site-packages\\sklearn\\ensemble\\_base.py:166: FutureWarning: `base_estimator` was renamed to `estimator` in version 1.2 and will be removed in 1.4.\n",
      "  warnings.warn(\n",
      "c:\\Users\\SP. Narayanan\\Documents\\career dendogram\\dendpy\\.venv\\Lib\\site-packages\\sklearn\\ensemble\\_base.py:166: FutureWarning: `base_estimator` was renamed to `estimator` in version 1.2 and will be removed in 1.4.\n",
      "  warnings.warn(\n",
      "c:\\Users\\SP. Narayanan\\Documents\\career dendogram\\dendpy\\.venv\\Lib\\site-packages\\sklearn\\ensemble\\_base.py:166: FutureWarning: `base_estimator` was renamed to `estimator` in version 1.2 and will be removed in 1.4.\n",
      "  warnings.warn(\n"
     ]
    },
    {
     "name": "stdout",
     "output_type": "stream",
     "text": [
      "accuracy : 99.81481481481481\n"
     ]
    }
   ],
   "source": [
    "results = model_selection.cross_val_score(model, X, Y, cv = kfold)\n",
    "print(\"accuracy :\",results.mean()*100)"
   ]
  }
 ],
 "metadata": {
  "kernelspec": {
   "display_name": ".venv",
   "language": "python",
   "name": "python3"
  },
  "language_info": {
   "codemirror_mode": {
    "name": "ipython",
    "version": 3
   },
   "file_extension": ".py",
   "mimetype": "text/x-python",
   "name": "python",
   "nbconvert_exporter": "python",
   "pygments_lexer": "ipython3",
   "version": "3.11.2"
  },
  "orig_nbformat": 4
 },
 "nbformat": 4,
 "nbformat_minor": 2
}
